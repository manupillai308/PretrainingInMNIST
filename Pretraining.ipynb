{
 "cells": [
  {
   "cell_type": "code",
   "execution_count": 1,
   "metadata": {},
   "outputs": [],
   "source": [
    "import tensorflow as tf"
   ]
  },
  {
   "cell_type": "code",
   "execution_count": 2,
   "metadata": {},
   "outputs": [],
   "source": [
    "import numpy as np"
   ]
  },
  {
   "cell_type": "code",
   "execution_count": 3,
   "metadata": {},
   "outputs": [],
   "source": [
    "from sklearn.model_selection import StratifiedShuffleSplit"
   ]
  },
  {
   "cell_type": "code",
   "execution_count": 4,
   "metadata": {},
   "outputs": [],
   "source": [
    "from sklearn.datasets import fetch_mldata"
   ]
  },
  {
   "cell_type": "code",
   "execution_count": 5,
   "metadata": {},
   "outputs": [],
   "source": [
    "data = fetch_mldata('mnist original')"
   ]
  },
  {
   "cell_type": "code",
   "execution_count": 6,
   "metadata": {},
   "outputs": [],
   "source": [
    "x, _y = data.data, data.target"
   ]
  },
  {
   "cell_type": "code",
   "execution_count": 7,
   "metadata": {},
   "outputs": [],
   "source": [
    "sss = StratifiedShuffleSplit(test_size=5000)\n",
    "for train_index, test_index in sss.split(x, _y):\n",
    "    x_train, valx_test = x[train_index], x[test_index]\n",
    "    y_train, valy_test = _y[train_index], _y[test_index]"
   ]
  },
  {
   "cell_type": "code",
   "execution_count": 8,
   "metadata": {},
   "outputs": [
    {
     "data": {
      "text/plain": [
       "((65000, 784), (65000,), (5000, 784))"
      ]
     },
     "execution_count": 8,
     "metadata": {},
     "output_type": "execute_result"
    }
   ],
   "source": [
    "x_train.shape, y_train.shape, valx_test.shape"
   ]
  },
  {
   "cell_type": "code",
   "execution_count": 9,
   "metadata": {},
   "outputs": [],
   "source": [
    "for train_index, test_index in sss.split(x_train, y_train):\n",
    "    x_train1, x_test = x_train[train_index], x_train[test_index]\n",
    "    y_train1, y_test = y_train[train_index], y_train[test_index]"
   ]
  },
  {
   "cell_type": "code",
   "execution_count": 10,
   "metadata": {},
   "outputs": [],
   "source": [
    "x_train1 = x_train1/255\n",
    "valx_test = valx_test/255\n",
    "x_test = x_test/255"
   ]
  },
  {
   "cell_type": "code",
   "execution_count": 11,
   "metadata": {},
   "outputs": [],
   "source": [
    "batch_size = 500\n",
    "n_epochs = 100\n",
    "learning_rate = 0.001\n",
    "n_features = 784"
   ]
  },
  {
   "cell_type": "code",
   "execution_count": 12,
   "metadata": {},
   "outputs": [],
   "source": [
    "def generate_batch(images, labels, batch_size):\n",
    "    size1 = batch_size // 2\n",
    "    size2 = batch_size - size1\n",
    "    if size1 != size2 and np.random.rand() > 0.5:\n",
    "        size1, size2 = size2, size1\n",
    "    X = []\n",
    "    y = []\n",
    "    while len(X) < size1:\n",
    "        rnd_idx1, rnd_idx2 = np.random.randint(0, len(images), 2)\n",
    "        if rnd_idx1 != rnd_idx2 and labels[rnd_idx1] == labels[rnd_idx2]:\n",
    "            X.append(np.array([images[rnd_idx1], images[rnd_idx2]]))\n",
    "            y.append([1])\n",
    "    while len(X) < batch_size:\n",
    "        rnd_idx1, rnd_idx2 = np.random.randint(0, len(images), 2)\n",
    "        if labels[rnd_idx1] != labels[rnd_idx2]:\n",
    "            X.append(np.array([images[rnd_idx1], images[rnd_idx2]]))\n",
    "            y.append([0])\n",
    "    rnd_indices = np.random.permutation(batch_size)\n",
    "    return np.array(X)[rnd_indices], np.array(y)[rnd_indices]"
   ]
  },
  {
   "cell_type": "code",
   "execution_count": 13,
   "metadata": {},
   "outputs": [],
   "source": [
    "from functools import partial\n",
    "he_init = tf.contrib.layers.variance_scaling_initializer()\n",
    "create_dense = partial(tf.layers.dense, units = 100, kernel_initializer = he_init,activation = tf.nn.elu)"
   ]
  },
  {
   "cell_type": "code",
   "execution_count": 14,
   "metadata": {},
   "outputs": [],
   "source": [
    "tf.reset_default_graph()"
   ]
  },
  {
   "cell_type": "code",
   "execution_count": 15,
   "metadata": {},
   "outputs": [],
   "source": [
    "with tf.name_scope(\"Inputs\"):\n",
    "    X = tf.placeholder(shape = [None,2, n_features], dtype = tf.float32)\n",
    "    Xa, Xb = tf.unstack(X, axis = 1)\n",
    "    y = tf.placeholder(shape = [None,1], dtype = tf.float32)\n",
    "    threshold = tf.placeholder_with_default(input = tf.constant([0.5], dtype=tf.float32), shape = [1])"
   ]
  },
  {
   "cell_type": "code",
   "execution_count": 16,
   "metadata": {},
   "outputs": [],
   "source": [
    "with tf.variable_scope(\"DNN-A\"):\n",
    "    hidden1a = create_dense(inputs = Xa)\n",
    "    hidden2a = create_dense(inputs = hidden1a)\n",
    "    hidden3a = create_dense(inputs = hidden2a)\n",
    "    hidden4a = create_dense(inputs = hidden3a)\n",
    "    hidden5a = create_dense(inputs = hidden4a)"
   ]
  },
  {
   "cell_type": "code",
   "execution_count": 17,
   "metadata": {},
   "outputs": [],
   "source": [
    "with tf.variable_scope(\"DNN-B\"):\n",
    "    hidden1b = create_dense(inputs = Xb)\n",
    "    hidden2b = create_dense(inputs = hidden1b)\n",
    "    hidden3b = create_dense(inputs = hidden2b)\n",
    "    hidden4b = create_dense(inputs = hidden3b)\n",
    "    hidden5b = create_dense(inputs = hidden4b)"
   ]
  },
  {
   "cell_type": "code",
   "execution_count": 18,
   "metadata": {},
   "outputs": [],
   "source": [
    "combined_output = tf.concat([hidden5a, hidden5b], axis=1)\n",
    "hiddenAB = create_dense(inputs = combined_output, units = 10)\n",
    "concat_layer = create_dense(inputs = hiddenAB, units = 1, activation = None)"
   ]
  },
  {
   "cell_type": "code",
   "execution_count": 19,
   "metadata": {},
   "outputs": [],
   "source": [
    "with tf.name_scope(\"loss\"):\n",
    "    xentropy = tf.nn.sigmoid_cross_entropy_with_logits(labels=y,logits=concat_layer)\n",
    "    loss = tf.reduce_mean(xentropy)"
   ]
  },
  {
   "cell_type": "code",
   "execution_count": 20,
   "metadata": {},
   "outputs": [],
   "source": [
    "with tf.name_scope(\"optimizer\"):\n",
    "    optimizer = tf.train.MomentumOptimizer(momentum = 0.9,learning_rate=learning_rate, use_nesterov=True)\n",
    "    training_op = optimizer.minimize(loss)"
   ]
  },
  {
   "cell_type": "code",
   "execution_count": 21,
   "metadata": {},
   "outputs": [],
   "source": [
    "with tf.name_scope(\"performance\"):\n",
    "    sig_output = tf.sigmoid(concat_layer)\n",
    "    correct = tf.equal(tf.cast(tf.logical_not(tf.less(sig_output,threshold)), dtype = tf.float32),y)\n",
    "    accuracy = tf.reduce_mean(tf.cast(correct, dtype = tf.float32))"
   ]
  },
  {
   "cell_type": "code",
   "execution_count": 22,
   "metadata": {},
   "outputs": [
    {
     "name": "stdout",
     "output_type": "stream",
     "text": [
      "epoch 0 Training accuracy: 0.5165833 Testing accuracy: 0.5144 Validation accuracy: 0.5052\n",
      "epoch 5 Training accuracy: 0.6698 Testing accuracy: 0.6622 Validation accuracy: ND\n",
      "epoch 10 Training accuracy: 0.77468336 Testing accuracy: 0.7848 Validation accuracy: 0.7874\n",
      "epoch 15 Training accuracy: 0.81556666 Testing accuracy: 0.8228 Validation accuracy: ND\n",
      "epoch 20 Training accuracy: 0.8413 Testing accuracy: 0.837 Validation accuracy: 0.8378\n",
      "epoch 25 Training accuracy: 0.8484333 Testing accuracy: 0.8446 Validation accuracy: ND\n",
      "epoch 30 Training accuracy: 0.86293334 Testing accuracy: 0.8606 Validation accuracy: 0.8642\n",
      "epoch 35 Training accuracy: 0.86755 Testing accuracy: 0.8846 Validation accuracy: ND\n",
      "epoch 40 Training accuracy: 0.87586665 Testing accuracy: 0.8788 Validation accuracy: 0.8728\n",
      "epoch 45 Training accuracy: 0.8802 Testing accuracy: 0.8802 Validation accuracy: ND\n",
      "epoch 50 Training accuracy: 0.8879333 Testing accuracy: 0.8936 Validation accuracy: 0.89\n",
      "epoch 55 Training accuracy: 0.8894 Testing accuracy: 0.9014 Validation accuracy: ND\n",
      "epoch 60 Training accuracy: 0.89918333 Testing accuracy: 0.9034 Validation accuracy: 0.894\n",
      "epoch 65 Training accuracy: 0.9001667 Testing accuracy: 0.9074 Validation accuracy: ND\n",
      "epoch 70 Training accuracy: 0.90716666 Testing accuracy: 0.9108 Validation accuracy: 0.9112\n",
      "epoch 75 Training accuracy: 0.91151667 Testing accuracy: 0.908 Validation accuracy: ND\n",
      "epoch 80 Training accuracy: 0.9166167 Testing accuracy: 0.9164 Validation accuracy: 0.9172\n",
      "epoch 85 Training accuracy: 0.91938335 Testing accuracy: 0.918 Validation accuracy: ND\n",
      "epoch 90 Training accuracy: 0.9221333 Testing accuracy: 0.9244 Validation accuracy: 0.9228\n",
      "epoch 95 Training accuracy: 0.92665 Testing accuracy: 0.927 Validation accuracy: ND\n"
     ]
    }
   ],
   "source": [
    "init = tf.global_variables_initializer()\n",
    "saver = tf.train.Saver()\n",
    "with tf.Session() as sess:\n",
    "    init.run()\n",
    "    for epoch in range(n_epochs):\n",
    "        for iteration in range(len(x_train1)//batch_size):\n",
    "            x_batch, y_batch = generate_batch(batch_size=batch_size, images=x_train1, labels=y_train1)\n",
    "            sess.run(training_op, feed_dict = {X:x_batch, y: y_batch})\n",
    "        if epoch % 5 == 0:\n",
    "            x_batch, y_batch = generate_batch(batch_size = len(x_train1), images = x_train1, labels = y_train1)\n",
    "            acc_train = accuracy.eval(feed_dict={X:x_batch, y: y_batch})\n",
    "            x_batch, y_batch = generate_batch(batch_size = len(x_test), images = x_test, labels = y_test)\n",
    "            acc_test = accuracy.eval(feed_dict={X:x_batch, y:y_batch})\n",
    "            acc_val = 'ND'\n",
    "            if epoch%10 == 0:\n",
    "                x_batch, y_batch = generate_batch(batch_size = len(valx_test), images = valx_test, labels = valy_test)\n",
    "                acc_val = accuracy.eval(feed_dict = {X:x_batch, y: y_batch})\n",
    "            print('epoch', epoch, 'Training accuracy:', acc_train, 'Testing accuracy:', acc_test, 'Validation accuracy:',acc_val)\n",
    "    \n",
    "    saver.save(sess, './PretrainingNw.ckpt')"
   ]
  },
  {
   "cell_type": "markdown",
   "metadata": {},
   "source": [
    "# Transfer Learning"
   ]
  },
  {
   "cell_type": "code",
   "execution_count": 23,
   "metadata": {},
   "outputs": [],
   "source": [
    "#using DNN-A\n",
    "tf.reset_default_graph()\n",
    "X = tf.placeholder(shape=[None, n_features], dtype = tf.float32)\n",
    "y = tf.placeholder(shape=[None], dtype = tf.int32)\n",
    "\n",
    "with tf.variable_scope(\"DNN-A\"):\n",
    "    hidden1 = create_dense(inputs = X)\n",
    "    hidden2 = create_dense(inputs = hidden1)\n",
    "    hidden3 = create_dense(inputs = hidden2)\n",
    "    hidden4 = create_dense(inputs = hidden3)\n",
    "    hidden5 = create_dense(inputs = hidden4)\n",
    "    \n",
    "with tf.name_scope(\"SoftLayer\"):\n",
    "    freezed = tf.stop_gradient(hidden5)\n",
    "    logits = tf.layers.dense(inputs= freezed, units=10, kernel_initializer=he_init, activation = None)\n",
    "    \n",
    "with tf.name_scope(\"TL/loss\"):\n",
    "    TLxentropy = tf.nn.sparse_softmax_cross_entropy_with_logits(logits=logits, labels=y)\n",
    "    loss = tf.reduce_mean(TLxentropy)\n",
    "    \n",
    "with tf.name_scope(\"TL/training\"):\n",
    "    TLoptimizer = tf.train.MomentumOptimizer(momentum=0.9, learning_rate= learning_rate,use_nesterov=True)\n",
    "    TLtraining_op = TLoptimizer.minimize(loss)\n",
    "    \n",
    "with tf.name_scope(\"TL/performance\"):\n",
    "    TLcorrect = tf.nn.in_top_k(k=1,predictions=logits, targets=y)\n",
    "    TLaccuracy = tf.reduce_mean(tf.cast(TLcorrect,tf.float32))"
   ]
  },
  {
   "cell_type": "code",
   "execution_count": 36,
   "metadata": {},
   "outputs": [],
   "source": [
    "TLepochs = 150\n",
    "TLbatch_size = 50\n",
    "TLlearning_rate = 0.001"
   ]
  },
  {
   "cell_type": "code",
   "execution_count": 33,
   "metadata": {},
   "outputs": [],
   "source": [
    "def next_batch(batch_size = TLbatch_size, x_train = x_test, y_train = y_test):\n",
    "    prev = 0\n",
    "    for i in range(batch_size , x_train.shape[0], batch_size):\n",
    "        yield x_train[prev:i], y_train[prev:i]\n",
    "        prev = i\n",
    "    "
   ]
  },
  {
   "cell_type": "code",
   "execution_count": 37,
   "metadata": {
    "scrolled": true
   },
   "outputs": [
    {
     "name": "stdout",
     "output_type": "stream",
     "text": [
      "INFO:tensorflow:Restoring parameters from ./PretrainingNw.ckpt\n",
      "epoch 0 Training accuracy: 0.7894 Testing accuracy: 0.7904\n",
      "epoch 5 Training accuracy: 0.8968 Testing accuracy: 0.892\n",
      "epoch 10 Training accuracy: 0.9064 Testing accuracy: 0.8984\n",
      "epoch 15 Training accuracy: 0.9114 Testing accuracy: 0.903\n",
      "epoch 20 Training accuracy: 0.9148 Testing accuracy: 0.9056\n",
      "epoch 25 Training accuracy: 0.9184 Testing accuracy: 0.9076\n",
      "epoch 30 Training accuracy: 0.92 Testing accuracy: 0.909\n",
      "epoch 35 Training accuracy: 0.9222 Testing accuracy: 0.909\n",
      "epoch 40 Training accuracy: 0.9238 Testing accuracy: 0.9104\n",
      "epoch 45 Training accuracy: 0.9248 Testing accuracy: 0.9112\n",
      "epoch 50 Training accuracy: 0.9252 Testing accuracy: 0.9122\n",
      "epoch 55 Training accuracy: 0.9254 Testing accuracy: 0.913\n",
      "epoch 60 Training accuracy: 0.9274 Testing accuracy: 0.9126\n",
      "epoch 65 Training accuracy: 0.9276 Testing accuracy: 0.9124\n",
      "epoch 70 Training accuracy: 0.9282 Testing accuracy: 0.9138\n",
      "epoch 75 Training accuracy: 0.9294 Testing accuracy: 0.914\n",
      "epoch 80 Training accuracy: 0.93 Testing accuracy: 0.9144\n",
      "epoch 85 Training accuracy: 0.9308 Testing accuracy: 0.915\n",
      "epoch 90 Training accuracy: 0.9316 Testing accuracy: 0.9152\n",
      "epoch 95 Training accuracy: 0.9326 Testing accuracy: 0.916\n",
      "epoch 100 Training accuracy: 0.9328 Testing accuracy: 0.9168\n",
      "epoch 105 Training accuracy: 0.9334 Testing accuracy: 0.9174\n",
      "epoch 110 Training accuracy: 0.9332 Testing accuracy: 0.9182\n",
      "epoch 115 Training accuracy: 0.9338 Testing accuracy: 0.9184\n",
      "epoch 120 Training accuracy: 0.9344 Testing accuracy: 0.9184\n",
      "epoch 125 Training accuracy: 0.9346 Testing accuracy: 0.9186\n",
      "epoch 130 Training accuracy: 0.9346 Testing accuracy: 0.9186\n",
      "epoch 135 Training accuracy: 0.935 Testing accuracy: 0.9188\n",
      "epoch 140 Training accuracy: 0.9354 Testing accuracy: 0.9184\n",
      "epoch 145 Training accuracy: 0.9358 Testing accuracy: 0.9188\n"
     ]
    }
   ],
   "source": [
    "var_listt = tf.get_collection(tf.GraphKeys.GLOBAL_VARIABLES, scope = \"DNN-A\")\n",
    "init = tf.global_variables_initializer()\n",
    "restore = tf.train.Saver(var_list = {var.op.name : var for var in var_listt})\n",
    "TLsaver = tf.train.Saver()\n",
    "\n",
    "with tf.Session() as sess:\n",
    "    init.run()\n",
    "    restore.restore(sess, './PretrainingNw.ckpt')\n",
    "    for epoch in range(TLepochs):\n",
    "        batch = next_batch()\n",
    "        for x_batch, y_batch in batch:\n",
    "            sess.run(TLtraining_op, feed_dict = {X:x_batch, y:y_batch})\n",
    "        acc_train = TLaccuracy.eval(feed_dict = {X:x_test, y: y_test})\n",
    "        acc_test = TLaccuracy.eval(feed_dict = {X: valx_test, y: valy_test})\n",
    "        if epoch% 5 == 0:\n",
    "            print('epoch', epoch, 'Training accuracy:', acc_train, 'Testing accuracy:', acc_test)\n",
    "    final_path = TLsaver.save(sess, './PretrainingNwTL.ckpt')"
   ]
  }
 ],
 "metadata": {
  "kernelspec": {
   "display_name": "Python 3",
   "language": "python",
   "name": "python3"
  },
  "language_info": {
   "codemirror_mode": {
    "name": "ipython",
    "version": 3
   },
   "file_extension": ".py",
   "mimetype": "text/x-python",
   "name": "python",
   "nbconvert_exporter": "python",
   "pygments_lexer": "ipython3",
   "version": "3.6.6"
  }
 },
 "nbformat": 4,
 "nbformat_minor": 2
}
