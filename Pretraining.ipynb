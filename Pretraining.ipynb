{
 "cells": [
  {
   "cell_type": "code",
   "execution_count": 1,
   "metadata": {},
   "outputs": [],
   "source": [
    "import tensorflow as tf"
   ]
  },
  {
   "cell_type": "code",
   "execution_count": 2,
   "metadata": {},
   "outputs": [],
   "source": [
    "import numpy as np"
   ]
  },
  {
   "cell_type": "code",
   "execution_count": 3,
   "metadata": {},
   "outputs": [],
   "source": [
    "from sklearn.model_selection import StratifiedShuffleSplit"
   ]
  },
  {
   "cell_type": "code",
   "execution_count": 350,
   "metadata": {},
   "outputs": [],
   "source": [
    "from sklearn.datasets import fetch_mldata"
   ]
  },
  {
   "cell_type": "code",
   "execution_count": 351,
   "metadata": {},
   "outputs": [],
   "source": [
    "data = fetch_mldata('mnist original')"
   ]
  },
  {
   "cell_type": "code",
   "execution_count": 395,
   "metadata": {},
   "outputs": [],
   "source": [
    "x, _y = data.data, data.target"
   ]
  },
  {
   "cell_type": "code",
   "execution_count": 396,
   "metadata": {},
   "outputs": [],
   "source": [
    "sss = StratifiedShuffleSplit(test_size=5000)\n",
    "for train_index, test_index in sss.split(x, _y):\n",
    "    x_train, valx_test = x[train_index], x[test_index]\n",
    "    y_train, valy_test = _y[train_index], _y[test_index]"
   ]
  },
  {
   "cell_type": "code",
   "execution_count": 398,
   "metadata": {},
   "outputs": [
    {
     "data": {
      "text/plain": [
       "((65000, 784), (65000,), (5000, 784))"
      ]
     },
     "execution_count": 398,
     "metadata": {},
     "output_type": "execute_result"
    }
   ],
   "source": [
    "x_train.shape, y_train.shape, valx_test.shape"
   ]
  },
  {
   "cell_type": "code",
   "execution_count": 399,
   "metadata": {},
   "outputs": [],
   "source": [
    "for train_index, test_index in sss.split(x_train, y_train):\n",
    "    x_train1, x_test = x_train[train_index], x_train[test_index]\n",
    "    y_train1, y_test = y_train[train_index], y_train[test_index]"
   ]
  },
  {
   "cell_type": "code",
   "execution_count": 400,
   "metadata": {},
   "outputs": [],
   "source": [
    "x_train1 = x_train1/255\n",
    "valx_test = valx_test/255\n",
    "x_test = x_test/255"
   ]
  },
  {
   "cell_type": "code",
   "execution_count": 377,
   "metadata": {},
   "outputs": [],
   "source": [
    "batch_size = 500\n",
    "n_epochs = 100\n",
    "learning_rate = 0.001\n",
    "n_features = 784"
   ]
  },
  {
   "cell_type": "code",
   "execution_count": 378,
   "metadata": {},
   "outputs": [],
   "source": [
    "def generate_batch(images, labels, batch_size):\n",
    "    size1 = batch_size // 2\n",
    "    size2 = batch_size - size1\n",
    "    if size1 != size2 and np.random.rand() > 0.5:\n",
    "        size1, size2 = size2, size1\n",
    "    X = []\n",
    "    y = []\n",
    "    while len(X) < size1:\n",
    "        rnd_idx1, rnd_idx2 = np.random.randint(0, len(images), 2)\n",
    "        if rnd_idx1 != rnd_idx2 and labels[rnd_idx1] == labels[rnd_idx2]:\n",
    "            X.append(np.array([images[rnd_idx1], images[rnd_idx2]]))\n",
    "            y.append([1])\n",
    "    while len(X) < batch_size:\n",
    "        rnd_idx1, rnd_idx2 = np.random.randint(0, len(images), 2)\n",
    "        if labels[rnd_idx1] != labels[rnd_idx2]:\n",
    "            X.append(np.array([images[rnd_idx1], images[rnd_idx2]]))\n",
    "            y.append([0])\n",
    "    rnd_indices = np.random.permutation(batch_size)\n",
    "    return np.array(X)[rnd_indices], np.array(y)[rnd_indices]"
   ]
  },
  {
   "cell_type": "code",
   "execution_count": 412,
   "metadata": {},
   "outputs": [],
   "source": [
    "from functools import partial\n",
    "he_init = tf.contrib.layers.variance_scaling_initializer()\n",
    "create_dense = partial(tf.layers.dense, units = 100, kernel_initializer = he_init,activation = tf.nn.elu)"
   ]
  },
  {
   "cell_type": "code",
   "execution_count": 414,
   "metadata": {},
   "outputs": [],
   "source": [
    "tf.reset_default_graph()"
   ]
  },
  {
   "cell_type": "code",
   "execution_count": 415,
   "metadata": {},
   "outputs": [],
   "source": [
    "with tf.name_scope(\"Inputs\"):\n",
    "    X = tf.placeholder(shape = [None,2, n_features], dtype = tf.float32)\n",
    "    Xa, Xb = tf.unstack(X, axis = 1)\n",
    "    y = tf.placeholder(shape = [None,1], dtype = tf.float32)\n",
    "    threshold = tf.placeholder_with_default(input = tf.constant([0.5], dtype=tf.float32), shape = [1])"
   ]
  },
  {
   "cell_type": "code",
   "execution_count": 416,
   "metadata": {},
   "outputs": [],
   "source": [
    "with tf.name_scope(\"DNN-A\"):\n",
    "    hidden1a = create_dense(inputs = Xa)\n",
    "    hidden2a = create_dense(inputs = hidden1a)\n",
    "    hidden3a = create_dense(inputs = hidden2a)\n",
    "    hidden4a = create_dense(inputs = hidden3a)\n",
    "    hidden5a = create_dense(inputs = hidden4a)"
   ]
  },
  {
   "cell_type": "code",
   "execution_count": 417,
   "metadata": {},
   "outputs": [],
   "source": [
    "with tf.name_scope(\"DNN-B\"):\n",
    "    hidden1b = create_dense(inputs = Xb)\n",
    "    hidden2b = create_dense(inputs = hidden1b)\n",
    "    hidden3b = create_dense(inputs = hidden2b)\n",
    "    hidden4b = create_dense(inputs = hidden3b)\n",
    "    hidden5b = create_dense(inputs = hidden4b)"
   ]
  },
  {
   "cell_type": "code",
   "execution_count": 418,
   "metadata": {},
   "outputs": [],
   "source": [
    "combined_output = tf.concat([hidden5a, hidden5b], axis=1)\n",
    "hiddenAB = create_dense(inputs = combined_output, units = 10)\n",
    "concat_layer = create_dense(inputs = hiddenAB, units = 1, activation = None)"
   ]
  },
  {
   "cell_type": "code",
   "execution_count": 419,
   "metadata": {},
   "outputs": [],
   "source": [
    "with tf.name_scope(\"loss\"):\n",
    "    xentropy = tf.nn.sigmoid_cross_entropy_with_logits(labels=y,logits=concat_layer)\n",
    "    loss = tf.reduce_mean(xentropy)"
   ]
  },
  {
   "cell_type": "code",
   "execution_count": 420,
   "metadata": {},
   "outputs": [],
   "source": [
    "with tf.name_scope(\"optimizer\"):\n",
    "    optimizer = tf.train.MomentumOptimizer(momentum = 0.9,learning_rate=learning_rate, use_nesterov=True)\n",
    "    training_op = optimizer.minimize(loss)"
   ]
  },
  {
   "cell_type": "code",
   "execution_count": 421,
   "metadata": {},
   "outputs": [],
   "source": [
    "with tf.name_scope(\"performance\"):\n",
    "    sig_output = tf.sigmoid(concat_layer)\n",
    "    correct = tf.equal(tf.cast(tf.logical_not(tf.less(sig_output,threshold)), dtype = tf.float32),y)\n",
    "    accuracy = tf.reduce_mean(tf.cast(correct, dtype = tf.float32))"
   ]
  },
  {
   "cell_type": "code",
   "execution_count": 423,
   "metadata": {},
   "outputs": [
    {
     "name": "stdout",
     "output_type": "stream",
     "text": [
      "epoch 0 Training accuracy: 0.5164667 Testing accuracy: 0.523 Validation accuracy: 0.5228\n",
      "epoch 5 Training accuracy: 0.6864833 Testing accuracy: 0.6948 Validation accuracy: ND\n",
      "epoch 10 Training accuracy: 0.7691 Testing accuracy: 0.7742 Validation accuracy: 0.763\n",
      "epoch 15 Training accuracy: 0.80403334 Testing accuracy: 0.8028 Validation accuracy: ND\n",
      "epoch 20 Training accuracy: 0.8354 Testing accuracy: 0.8488 Validation accuracy: 0.833\n",
      "epoch 25 Training accuracy: 0.85941666 Testing accuracy: 0.8566 Validation accuracy: ND\n",
      "epoch 30 Training accuracy: 0.86985 Testing accuracy: 0.871 Validation accuracy: 0.8692\n",
      "epoch 35 Training accuracy: 0.8785 Testing accuracy: 0.8808 Validation accuracy: ND\n",
      "epoch 40 Training accuracy: 0.88881665 Testing accuracy: 0.8888 Validation accuracy: 0.8848\n",
      "epoch 45 Training accuracy: 0.89685 Testing accuracy: 0.8978 Validation accuracy: ND\n",
      "epoch 50 Training accuracy: 0.9033667 Testing accuracy: 0.9052 Validation accuracy: 0.8968\n",
      "epoch 55 Training accuracy: 0.9090833 Testing accuracy: 0.9182 Validation accuracy: ND\n",
      "epoch 60 Training accuracy: 0.9102833 Testing accuracy: 0.9112 Validation accuracy: 0.908\n",
      "epoch 65 Training accuracy: 0.91385 Testing accuracy: 0.9224 Validation accuracy: ND\n",
      "epoch 70 Training accuracy: 0.9162167 Testing accuracy: 0.9186 Validation accuracy: 0.911\n",
      "epoch 75 Training accuracy: 0.9195667 Testing accuracy: 0.926 Validation accuracy: ND\n",
      "epoch 80 Training accuracy: 0.92115 Testing accuracy: 0.9262 Validation accuracy: 0.9098\n",
      "epoch 85 Training accuracy: 0.92615 Testing accuracy: 0.9294 Validation accuracy: ND\n",
      "epoch 90 Training accuracy: 0.9262 Testing accuracy: 0.9362 Validation accuracy: 0.9208\n",
      "epoch 95 Training accuracy: 0.9303833 Testing accuracy: 0.932 Validation accuracy: ND\n"
     ]
    }
   ],
   "source": [
    "init = tf.global_variables_initializer()\n",
    "saver = tf.train.Saver()\n",
    "with tf.Session() as sess:\n",
    "    init.run()\n",
    "    for epoch in range(n_epochs):\n",
    "        for iteration in range(len(x_train1)//batch_size):\n",
    "            x_batch, y_batch = generate_batch(batch_size=batch_size, images=x_train1, labels=y_train1)\n",
    "            sess.run(training_op, feed_dict = {X:x_batch, y: y_batch})\n",
    "        if epoch % 5 == 0:\n",
    "            x_batch, y_batch = generate_batch(batch_size = len(x_train1), images = x_train1, labels = y_train1)\n",
    "            acc_train = accuracy.eval(feed_dict={X:x_batch, y: y_batch})\n",
    "            x_batch, y_batch = generate_batch(batch_size = len(x_test), images = x_test, labels = y_test)\n",
    "            acc_test = accuracy.eval(feed_dict={X:x_batch, y:y_batch})\n",
    "            acc_val = 'ND'\n",
    "            if epoch%10 == 0:\n",
    "                x_batch, y_batch = generate_batch(batch_size = len(valx_test), images = valx_test, labels = valy_test)\n",
    "                acc_val = accuracy.eval(feed_dict = {X:x_batch, y: y_batch})\n",
    "            print('epoch', epoch, 'Training accuracy:', acc_train, 'Testing accuracy:', acc_test, 'Validation accuracy:',acc_val)\n",
    "    \n",
    "    saver.save(sess, './PretrainingNw.ckpt')"
   ]
  },
  {
   "cell_type": "code",
   "execution_count": null,
   "metadata": {},
   "outputs": [],
   "source": []
  }
 ],
 "metadata": {
  "kernelspec": {
   "display_name": "Python 3",
   "language": "python",
   "name": "python3"
  },
  "language_info": {
   "codemirror_mode": {
    "name": "ipython",
    "version": 3
   },
   "file_extension": ".py",
   "mimetype": "text/x-python",
   "name": "python",
   "nbconvert_exporter": "python",
   "pygments_lexer": "ipython3",
   "version": "3.6.6"
  }
 },
 "nbformat": 4,
 "nbformat_minor": 2
}
